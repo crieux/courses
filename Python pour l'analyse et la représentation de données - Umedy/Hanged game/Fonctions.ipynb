{
 "cells": [
  {
   "cell_type": "code",
   "execution_count": null,
   "metadata": {},
   "outputs": [],
   "source": [
    "from Donnees import *\n",
    "from random import *\n",
    "\n",
    "def choisi_mot():\n",
    "    global liste_mots\n",
    "    mot = liste_mots[randrange(0, len(liste_mots))]\n",
    "    return str(mot)\n",
    "\n",
    "def jeu(mot):\n",
    "    score = 0\n",
    "    global nb_coups\n",
    "    coup = 0\n",
    "    print(\"C'est bon, j'ai choisi, à vous de deviner !\")\n",
    "    answer = list(\"_\" * len(mot))\n",
    "    print(answer)\n",
    "    solution = list(mot)\n",
    "    while solution != answer and coup <= nb_coups:\n",
    "        lettre = -1\n",
    "        while lettre == -1:\n",
    "            try:\n",
    "                lettre = str(input(\"Entrez une lettre :\"))\n",
    "            except NameError:\n",
    "                print(\"Vous n'avez pas saisi une lettre.\")\n",
    "                lettre = -1\n",
    "            except TypeError:\n",
    "                print(\"Vous n'avez pas saisi une lettre.\")\n",
    "                lettre = -1\n",
    "        if lettre in solution:\n",
    "            print(\"Bien joué ! Vous avez trouvé la lettre\", lettre)\n",
    "            index = solution.index(lettre)\n",
    "            answer[index] = lettre\n",
    "            print(answer)\n",
    "            coup += 1\n",
    "            print(\"Il reste\", nb_coups - coup, \"coups.\")\n",
    "        else:\n",
    "            print(\"La lettre\", lettre, \"n'est pas dans la solution.\")            \n",
    "            coup += 1\n",
    "            print(\"Il reste\", nb_coups - coup, \"coups.\")\n",
    "    if coup <= nb_coups:\n",
    "        score = nb_coups - coup\n",
    "        print(\"Bien joué ! Vous avez gagné\", score, \"points.\")\n",
    "    else:\n",
    "        print(\"Vous avez perdu...\")\n",
    "    return(score)\n",
    "            "
   ]
  },
  {
   "cell_type": "code",
   "execution_count": 44,
   "metadata": {},
   "outputs": [
    {
     "data": {
      "text/plain": [
       "{3: 'trois'}"
      ]
     },
     "execution_count": 44,
     "metadata": {},
     "output_type": "execute_result"
    }
   ],
   "source": [
    "liste = [\"un\", \"deux\", \"3\"]\n",
    "liste[0] = \"uno\"\n",
    "liste.sort()\n",
    "liste\n",
    "liste.append(\"4\")\n",
    "def fun(*liste):\n",
    "    return len(liste)\n",
    "\n",
    "fun(liste)\n",
    "\n",
    "dicti = {2 : \"deux\", 1: \"un\", 3 : \"trois\"}\n",
    "del dicti[2]\n",
    "dicti\n",
    "\n",
    "dicti.pop(1)\n",
    "dicti"
   ]
  },
  {
   "cell_type": "code",
   "execution_count": 28,
   "metadata": {},
   "outputs": [
    {
     "name": "stdout",
     "output_type": "stream",
     "text": [
      "Help on class tuple in module builtins:\n",
      "\n",
      "class tuple(object)\n",
      " |  tuple() -> empty tuple\n",
      " |  tuple(iterable) -> tuple initialized from iterable's items\n",
      " |  \n",
      " |  If the argument is a tuple, the return value is the same object.\n",
      " |  \n",
      " |  Methods defined here:\n",
      " |  \n",
      " |  __add__(self, value, /)\n",
      " |      Return self+value.\n",
      " |  \n",
      " |  __contains__(self, key, /)\n",
      " |      Return key in self.\n",
      " |  \n",
      " |  __eq__(self, value, /)\n",
      " |      Return self==value.\n",
      " |  \n",
      " |  __ge__(self, value, /)\n",
      " |      Return self>=value.\n",
      " |  \n",
      " |  __getattribute__(self, name, /)\n",
      " |      Return getattr(self, name).\n",
      " |  \n",
      " |  __getitem__(self, key, /)\n",
      " |      Return self[key].\n",
      " |  \n",
      " |  __getnewargs__(...)\n",
      " |  \n",
      " |  __gt__(self, value, /)\n",
      " |      Return self>value.\n",
      " |  \n",
      " |  __hash__(self, /)\n",
      " |      Return hash(self).\n",
      " |  \n",
      " |  __iter__(self, /)\n",
      " |      Implement iter(self).\n",
      " |  \n",
      " |  __le__(self, value, /)\n",
      " |      Return self<=value.\n",
      " |  \n",
      " |  __len__(self, /)\n",
      " |      Return len(self).\n",
      " |  \n",
      " |  __lt__(self, value, /)\n",
      " |      Return self<value.\n",
      " |  \n",
      " |  __mul__(self, value, /)\n",
      " |      Return self*value.n\n",
      " |  \n",
      " |  __ne__(self, value, /)\n",
      " |      Return self!=value.\n",
      " |  \n",
      " |  __new__(*args, **kwargs) from builtins.type\n",
      " |      Create and return a new object.  See help(type) for accurate signature.\n",
      " |  \n",
      " |  __repr__(self, /)\n",
      " |      Return repr(self).\n",
      " |  \n",
      " |  __rmul__(self, value, /)\n",
      " |      Return self*value.\n",
      " |  \n",
      " |  count(...)\n",
      " |      T.count(value) -> integer -- return number of occurrences of value\n",
      " |  \n",
      " |  index(...)\n",
      " |      T.index(value, [start, [stop]]) -> integer -- return first index of value.\n",
      " |      Raises ValueError if the value is not present.\n",
      "\n"
     ]
    }
   ],
   "source": [
    "help(tuple)"
   ]
  },
  {
   "cell_type": "code",
   "execution_count": null,
   "metadata": {},
   "outputs": [],
   "source": []
  }
 ],
 "metadata": {
  "kernelspec": {
   "display_name": "Python 3",
   "language": "python",
   "name": "python3"
  },
  "language_info": {
   "codemirror_mode": {
    "name": "ipython",
    "version": 3
   },
   "file_extension": ".py",
   "mimetype": "text/x-python",
   "name": "python",
   "nbconvert_exporter": "python",
   "pygments_lexer": "ipython3",
   "version": "3.6.4"
  }
 },
 "nbformat": 4,
 "nbformat_minor": 2
}
