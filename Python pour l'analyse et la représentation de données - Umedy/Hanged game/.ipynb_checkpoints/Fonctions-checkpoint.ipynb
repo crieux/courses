{
 "cells": [
  {
   "cell_type": "code",
   "execution_count": null,
   "metadata": {},
   "outputs": [],
   "source": [
    "from Donnees import *\n",
    "from random import *\n",
    "\n",
    "def choisi_mot():\n",
    "    global liste_mots\n",
    "    mot = liste_mots[randrange(0, len(liste_mots))]\n",
    "    return str(mot)\n",
    "\n",
    "def jeu(mot):\n",
    "    score = 0\n",
    "    global nb_coups\n",
    "    coup = 0\n",
    "    print(\"C'est bon, j'ai choisi, à vous de deviner !\")\n",
    "    answer = list(\"_\" * len(mot))\n",
    "    print(answer)\n",
    "    solution = list(mot)\n",
    "    while solution != answer and coup <= nb_coups:\n",
    "        lettre = -1\n",
    "        while lettre == -1:\n",
    "            try:\n",
    "                lettre = str(input(\"Entrez une lettre :\"))\n",
    "            except NameError:\n",
    "                print(\"Vous n'avez pas saisi une lettre.\")\n",
    "                lettre = -1\n",
    "            except TypeError:\n",
    "                print(\"Vous n'avez pas saisi une lettre.\")\n",
    "                lettre = -1\n",
    "        if lettre in solution:\n",
    "            print(\"Bien joué ! Vous avez trouvé la lettre\", lettre)\n",
    "            index = solution.index(lettre)\n",
    "            answer[index] = lettre\n",
    "            print(answer)\n",
    "            coup += 1\n",
    "            print(\"Il reste\", nb_coups - coup, \"coups.\")\n",
    "        else:\n",
    "            print(\"La lettre\", lettre, \"n'est pas dans la solution.\")            \n",
    "            coup += 1\n",
    "            print(\"Il reste\", nb_coups - coup, \"coups.\")\n",
    "    if coup <= nb_coups:\n",
    "        score = nb_coups - coup\n",
    "        print(\"Bien joué ! Vous avez gagné\", score, \"points.\")\n",
    "    else:\n",
    "        print(\"Vous avez perdu...\")\n",
    "    return(score)\n",
    "            "
   ]
  },
  {
   "cell_type": "code",
   "execution_count": 15,
   "metadata": {},
   "outputs": [
    {
     "data": {
      "text/plain": [
       "['uno', 'deux', 'trois']"
      ]
     },
     "execution_count": 15,
     "metadata": {},
     "output_type": "execute_result"
    }
   ],
   "source": [
    "liste = [\"un\", \"deux\", \"trois\"]\n",
    "liste[0] = \"uno\"\n",
    "liste"
   ]
  },
  {
   "cell_type": "code",
   "execution_count": null,
   "metadata": {},
   "outputs": [],
   "source": []
  }
 ],
 "metadata": {
  "kernelspec": {
   "display_name": "Python 3",
   "language": "python",
   "name": "python3"
  },
  "language_info": {
   "codemirror_mode": {
    "name": "ipython",
    "version": 3
   },
   "file_extension": ".py",
   "mimetype": "text/x-python",
   "name": "python",
   "nbconvert_exporter": "python",
   "pygments_lexer": "ipython3",
   "version": "3.6.4"
  }
 },
 "nbformat": 4,
 "nbformat_minor": 2
}
