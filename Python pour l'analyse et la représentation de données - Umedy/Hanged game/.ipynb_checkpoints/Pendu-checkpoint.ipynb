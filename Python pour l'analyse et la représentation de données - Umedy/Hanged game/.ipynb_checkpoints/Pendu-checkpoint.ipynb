{
 "cells": [
  {
   "cell_type": "code",
   "execution_count": 13,
   "metadata": {},
   "outputs": [
    {
     "ename": "ModuleNotFoundError",
     "evalue": "No module named 'Fonctions'",
     "output_type": "error",
     "traceback": [
      "\u001b[0;31m---------------------------------------------------------------------------\u001b[0m",
      "\u001b[0;31mModuleNotFoundError\u001b[0m                       Traceback (most recent call last)",
      "\u001b[0;32m<ipython-input-13-6a5145fbec24>\u001b[0m in \u001b[0;36m<module>\u001b[0;34m()\u001b[0m\n\u001b[1;32m      1\u001b[0m \u001b[0;32mimport\u001b[0m \u001b[0mos\u001b[0m\u001b[0;34m\u001b[0m\u001b[0m\n\u001b[0;32m----> 2\u001b[0;31m \u001b[0;32mimport\u001b[0m \u001b[0mFonctions\u001b[0m\u001b[0;34m\u001b[0m\u001b[0m\n\u001b[0m\u001b[1;32m      3\u001b[0m \u001b[0;34m\u001b[0m\u001b[0m\n\u001b[1;32m      4\u001b[0m \u001b[0mfichier_scores\u001b[0m \u001b[0;34m=\u001b[0m \u001b[0mopen\u001b[0m\u001b[0;34m(\u001b[0m\u001b[0;34m\"scores\"\u001b[0m\u001b[0;34m,\u001b[0m \u001b[0;34m\"r\"\u001b[0m\u001b[0;34m)\u001b[0m\u001b[0;34m\u001b[0m\u001b[0m\n\u001b[1;32m      5\u001b[0m \u001b[0mscores\u001b[0m \u001b[0;34m=\u001b[0m \u001b[0mdict\u001b[0m\u001b[0;34m(\u001b[0m\u001b[0mfichier_scores\u001b[0m\u001b[0;34m.\u001b[0m\u001b[0mread\u001b[0m\u001b[0;34m(\u001b[0m\u001b[0;34m)\u001b[0m\u001b[0;34m)\u001b[0m\u001b[0;34m\u001b[0m\u001b[0m\n",
      "\u001b[0;31mModuleNotFoundError\u001b[0m: No module named 'Fonctions'"
     ]
    }
   ],
   "source": [
    "import os\n",
    "from fonctions import *\n",
    "\n",
    "fichier_scores = open(\"scores\", 'r')\n",
    "scores = dict(fichier_scores.read())\n",
    "fichier_scores.close()\n",
    "nom = -1\n",
    "\n",
    "while nom == -1:\n",
    "    try:\n",
    "        nom = str(input(\"Quel est votre nom ?\"))\n",
    "    except NameEroor:\n",
    "        print(\"Vous n'avez pas saisi un nom.\")\n",
    "        name = -1\n",
    "    except TypeError:\n",
    "        print(\"Vous n'avez pas saisi un nom.\")\n",
    "        name = -1    \n",
    "\n",
    "noms = scores.keys()\n",
    "if nom in noms:\n",
    "    score = scores[nom]\n",
    "    print(\"Rebonjour\", nom, \"vous avez un score de\", score, \", je choisi un mot...\")\n",
    "    mot = choisi_mot()\n",
    "    score = jeu(mot)\n",
    "    if score > 0:\n",
    "        scores[nom] = scores[nom] + score\n",
    "        fichier_scores = open(\"scores\", 'w')\n",
    "        fichier_scores.write(scores)\n",
    "        fichier_scores.close()    \n",
    "else:\n",
    "    print(\"Bienvenue\", nom, \", je choisi un mot...\")\n",
    "    mot = choisi_mot()\n",
    "    score = jeu(mot)\n",
    "    if score > 0:\n",
    "        fichier_scores = open(\"scores\", 'w')\n",
    "        imprime = (str(nom) + str(\" : \") + str(score))\n",
    "        fichier_scores.write(imprime)\n",
    "        fichier_scores.close()\n",
    "    \n",
    "print(\"A bientôt !\")"
   ]
  },
  {
   "cell_type": "code",
   "execution_count": 12,
   "metadata": {},
   "outputs": [
    {
     "data": {
      "text/plain": [
       "1"
      ]
     },
     "execution_count": 12,
     "metadata": {},
     "output_type": "execute_result"
    }
   ],
   "source": [
    "dict = {'a' : 1,  'b' : 2, 'c' : 3}\n",
    "dict['a']"
   ]
  },
  {
   "cell_type": "code",
   "execution_count": null,
   "metadata": {},
   "outputs": [],
   "source": []
  }
 ],
 "metadata": {
  "kernelspec": {
   "display_name": "Python 3",
   "language": "python",
   "name": "python3"
  },
  "language_info": {
   "codemirror_mode": {
    "name": "ipython",
    "version": 3
   },
   "file_extension": ".py",
   "mimetype": "text/x-python",
   "name": "python",
   "nbconvert_exporter": "python",
   "pygments_lexer": "ipython3",
   "version": "3.6.4"
  }
 },
 "nbformat": 4,
 "nbformat_minor": 2
}
