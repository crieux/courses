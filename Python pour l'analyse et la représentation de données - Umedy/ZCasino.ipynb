{
 "cells": [
  {
   "cell_type": "code",
   "execution_count": null,
   "metadata": {},
   "outputs": [
    {
     "name": "stdout",
     "output_type": "stream",
     "text": [
      "Combien d'argent avez-vous ?15\n",
      "Quelle case choisissez-vous ?12\n",
      "Combien misez-vous ?15\n",
      "* La bille tombe sur la case 15 *\n",
      "Bravo ! Vous remportez la mise !\n",
      "Il vous reste 45 $\n"
     ]
    }
   ],
   "source": [
    "from math import *\n",
    "from random import *\n",
    "\n",
    "argent = -1\n",
    "while argent <= 0:\n",
    "    try:\n",
    "        argent = int(input(\"Combien d'argent avez-vous ?\"))\n",
    "    except ValueError:\n",
    "        print(\"Vous n'avez pas saisi un nombre\")\n",
    "    if argent <= 0:\n",
    "        print(\"Vous devez saisir un nombre supérieur à 0\")\n",
    "\n",
    "while argent > 0:\n",
    "    choix = -1\n",
    "    while choix < 0 or choix >= 50:\n",
    "        try:\n",
    "            choix = int(input(\"Quelle case choisissez-vous ?\"))\n",
    "        except ValueError:\n",
    "            print(\"Vous n'avez pas saisi un nombre.\")\n",
    "            choix = -1\n",
    "        if choix < 0 or choix >= 50:\n",
    "            print(\"Vous devez saisir un nombre compris entre 0 et 59 inclus.\")\n",
    "    mise = 0\n",
    "    while mise == 0:\n",
    "        try:\n",
    "            mise = int(input(\"Combien misez-vous ?\"))\n",
    "        except ValueError:\n",
    "            print(\"Vous n'avez pas saisi une nombre.\")\n",
    "            mise = 0\n",
    "        if mise > argent:\n",
    "            mise = 0\n",
    "            print(\"Vous n'avez pas assez d'argent.\")\n",
    "    case = randrange(0, 50)\n",
    "    argent = argent - mise\n",
    "    if mise == case:\n",
    "        print(\"* La bille tombe sur la case\", case, \"*\")\n",
    "        print(\"Bravo ! Vous remportez la mise !\")\n",
    "        argent = argent + (mise * 3)\n",
    "    else:\n",
    "        print(\"* La bille tombe sur la case\", case, \"*\")\n",
    "        modulo_choix = choix % 2\n",
    "        modulo_case = case % 2\n",
    "        if modulo_choix == modulo_case:\n",
    "            print(\"Vous remportez la moitié de votre mise, arrondie au supérieur.\")\n",
    "            gain = mise/2\n",
    "            if isinstance(gain, float):\n",
    "                gain = ceil(gain) + 1\n",
    "            argent = argent + gain\n",
    "        else:\n",
    "            print(\"Vous perdez votre mise.\")\n",
    "    print(\"Il vous reste\", argent, \"$\")"
   ]
  },
  {
   "cell_type": "code",
   "execution_count": null,
   "metadata": {},
   "outputs": [],
   "source": [
    "var = (ceil(2/5))\n",
    "print(var)"
   ]
  },
  {
   "cell_type": "code",
   "execution_count": null,
   "metadata": {},
   "outputs": [],
   "source": []
  }
 ],
 "metadata": {
  "kernelspec": {
   "display_name": "Python 3",
   "language": "python",
   "name": "python3"
  },
  "language_info": {
   "codemirror_mode": {
    "name": "ipython",
    "version": 3
   },
   "file_extension": ".py",
   "mimetype": "text/x-python",
   "name": "python",
   "nbconvert_exporter": "python",
   "pygments_lexer": "ipython3",
   "version": "3.6.4"
  }
 },
 "nbformat": 4,
 "nbformat_minor": 2
}
