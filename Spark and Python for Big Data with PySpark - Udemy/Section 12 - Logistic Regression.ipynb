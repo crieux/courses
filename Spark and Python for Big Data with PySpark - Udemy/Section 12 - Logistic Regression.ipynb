{
 "cells": [
  {
   "cell_type": "markdown",
   "metadata": {},
   "source": [
    "Video 41: Logistic Regression Example Code Along\n",
    "==============================================================="
   ]
  },
  {
   "cell_type": "code",
   "execution_count": 1,
   "metadata": {},
   "outputs": [
    {
     "name": "stdout",
     "output_type": "stream",
     "text": [
      "+-----+--------------------+\n",
      "|label|            features|\n",
      "+-----+--------------------+\n",
      "|  0.0|(692,[127,128,129...|\n",
      "|  1.0|(692,[158,159,160...|\n",
      "|  1.0|(692,[124,125,126...|\n",
      "|  1.0|(692,[152,153,154...|\n",
      "|  1.0|(692,[151,152,153...|\n",
      "|  0.0|(692,[129,130,131...|\n",
      "|  1.0|(692,[158,159,160...|\n",
      "|  1.0|(692,[99,100,101,...|\n",
      "|  0.0|(692,[154,155,156...|\n",
      "|  0.0|(692,[127,128,129...|\n",
      "|  1.0|(692,[154,155,156...|\n",
      "|  0.0|(692,[153,154,155...|\n",
      "|  0.0|(692,[151,152,153...|\n",
      "|  1.0|(692,[129,130,131...|\n",
      "|  0.0|(692,[154,155,156...|\n",
      "|  1.0|(692,[150,151,152...|\n",
      "|  0.0|(692,[124,125,126...|\n",
      "|  0.0|(692,[152,153,154...|\n",
      "|  1.0|(692,[97,98,99,12...|\n",
      "|  1.0|(692,[124,125,126...|\n",
      "+-----+--------------------+\n",
      "only showing top 20 rows\n",
      "\n"
     ]
    }
   ],
   "source": [
    "import findspark\n",
    "findspark.init('/home/ubuntu/spark-2.1.1-bin-hadoop2.7')\n",
    "import pyspark\n",
    "from pyspark.sql import SparkSession\n",
    "spark = SparkSession.builder.appName('mylogreg').getOrCreate()\n",
    "from pyspark.ml.classification import LogisticRegression\n",
    "data = spark.read.format('libsvm').load('sample_libsvm_data.txt')\n",
    "data.show()"
   ]
  },
  {
   "cell_type": "code",
   "execution_count": 2,
   "metadata": {},
   "outputs": [
    {
     "name": "stdout",
     "output_type": "stream",
     "text": [
      "+-----+--------------------+--------------------+--------------------+----------+\n",
      "|label|            features|       rawPrediction|         probability|prediction|\n",
      "+-----+--------------------+--------------------+--------------------+----------+\n",
      "|  0.0|(692,[127,128,129...|[19.8534775947478...|[0.99999999761359...|       0.0|\n",
      "|  1.0|(692,[158,159,160...|[-20.377398194908...|[1.41321555111048...|       1.0|\n",
      "|  1.0|(692,[124,125,126...|[-27.401459284891...|[1.25804865126969...|       1.0|\n",
      "|  1.0|(692,[152,153,154...|[-18.862741612668...|[6.42710509170264...|       1.0|\n",
      "|  1.0|(692,[151,152,153...|[-20.483011833009...|[1.27157209200596...|       1.0|\n",
      "|  0.0|(692,[129,130,131...|[19.8506078990277...|[0.99999999760673...|       0.0|\n",
      "|  1.0|(692,[158,159,160...|[-20.337256674833...|[1.47109814695572...|       1.0|\n",
      "|  1.0|(692,[99,100,101,...|[-19.595579753418...|[3.08850168102604...|       1.0|\n",
      "|  0.0|(692,[154,155,156...|[19.2708803215612...|[0.99999999572670...|       0.0|\n",
      "|  0.0|(692,[127,128,129...|[23.6202328360422...|[0.99999999994480...|       0.0|\n",
      "|  1.0|(692,[154,155,156...|[-24.385235147661...|[2.56818872776492...|       1.0|\n",
      "|  0.0|(692,[153,154,155...|[26.3082522490179...|[0.99999999999624...|       0.0|\n",
      "|  0.0|(692,[151,152,153...|[25.8329060318702...|[0.99999999999396...|       0.0|\n",
      "|  1.0|(692,[129,130,131...|[-19.794609139086...|[2.53110684529565...|       1.0|\n",
      "|  0.0|(692,[154,155,156...|[21.0260440948067...|[0.99999999926123...|       0.0|\n",
      "|  1.0|(692,[150,151,152...|[-22.764979942873...|[1.29806018790933...|       1.0|\n",
      "|  0.0|(692,[124,125,126...|[21.5049307193954...|[0.99999999954235...|       0.0|\n",
      "|  0.0|(692,[152,153,154...|[31.9927184226421...|[0.99999999999998...|       0.0|\n",
      "|  1.0|(692,[97,98,99,12...|[-20.521067180414...|[1.22409115616496...|       1.0|\n",
      "|  1.0|(692,[124,125,126...|[-22.245377742755...|[2.18250475400318...|       1.0|\n",
      "+-----+--------------------+--------------------+--------------------+----------+\n",
      "only showing top 20 rows\n",
      "\n"
     ]
    }
   ],
   "source": [
    "log_reg_model = LogisticRegression()\n",
    "fitted_model = log_reg_model.fit(data)\n",
    "log_summary = fitted_model.summary\n",
    "log_summary.predictions.show()"
   ]
  },
  {
   "cell_type": "code",
   "execution_count": 3,
   "metadata": {},
   "outputs": [
    {
     "name": "stdout",
     "output_type": "stream",
     "text": [
      "+-----+--------------------+--------------------+--------------------+----------+\n",
      "|label|            features|       rawPrediction|         probability|prediction|\n",
      "+-----+--------------------+--------------------+--------------------+----------+\n",
      "|  0.0|(692,[123,124,125...|[20.5065666501665...|[0.99999999875802...|       0.0|\n",
      "|  0.0|(692,[124,125,126...|[44.8603131160058...|[1.0,3.2916492924...|       0.0|\n",
      "|  0.0|(692,[126,127,128...|[26.4827780841510...|[0.99999999999684...|       0.0|\n",
      "|  0.0|(692,[126,127,128...|[23.0177706175592...|[0.99999999989918...|       0.0|\n",
      "|  0.0|(692,[126,127,128...|[30.0615036518216...|[0.99999999999991...|       0.0|\n",
      "|  0.0|(692,[127,128,129...|[23.9248992016987...|[0.99999999995930...|       0.0|\n",
      "|  0.0|(692,[127,128,129...|[22.8101042270575...|[0.99999999987592...|       0.0|\n",
      "|  0.0|(692,[129,130,131...|[15.3029324844992...|[0.99999977404561...|       0.0|\n",
      "|  0.0|(692,[150,151,152...|[26.3207690399766...|[0.99999999999629...|       0.0|\n",
      "|  0.0|(692,[152,153,154...|[35.8227835377244...|[0.99999999999999...|       0.0|\n",
      "|  0.0|(692,[155,156,180...|[34.6641604067276...|[0.99999999999999...|       0.0|\n",
      "|  1.0|(692,[97,98,99,12...|[-19.182199352157...|[4.66956761742726...|       1.0|\n",
      "|  1.0|(692,[99,100,101,...|[-3.5506938301606...|[0.02790374738605...|       1.0|\n",
      "|  1.0|(692,[119,120,121...|[7.35324162832949...|[0.99935989730655...|       0.0|\n",
      "|  1.0|(692,[123,124,125...|[-22.911391920349...|[1.12126667881669...|       1.0|\n",
      "|  1.0|(692,[124,125,126...|[-17.130613120507...|[3.63303209360962...|       1.0|\n",
      "|  1.0|(692,[124,125,126...|[-21.394970762164...|[5.10836895953873...|       1.0|\n",
      "|  1.0|(692,[124,125,126...|[-29.369856955169...|[1.75724853564794...|       1.0|\n",
      "|  1.0|(692,[125,126,127...|[-24.050258953767...|[3.59008927231393...|       1.0|\n",
      "|  1.0|(692,[127,128,155...|[-23.899487912600...|[4.17430597224991...|       1.0|\n",
      "+-----+--------------------+--------------------+--------------------+----------+\n",
      "only showing top 20 rows\n",
      "\n"
     ]
    }
   ],
   "source": [
    "lr_train, lr_test = data.randomSplit([0.7, 0.3])\n",
    "final_model = LogisticRegression()\n",
    "fit_final = final_model.fit(lr_train)\n",
    "prediction_and_labels = fit_final.evaluate(lr_test)\n",
    "prediction_and_labels.predictions.show()"
   ]
  },
  {
   "cell_type": "code",
   "execution_count": 4,
   "metadata": {},
   "outputs": [
    {
     "data": {
      "text/plain": [
       "1.0"
      ]
     },
     "execution_count": 4,
     "metadata": {},
     "output_type": "execute_result"
    }
   ],
   "source": [
    "from pyspark.ml.evaluation import BinaryClassificationEvaluator, MulticlassClassificationEvaluator\n",
    "meval = BinaryClassificationEvaluator()\n",
    "final_roc = meval.evaluate(prediction_and_labels.predictions)\n",
    "final_roc"
   ]
  },
  {
   "cell_type": "markdown",
   "metadata": {},
   "source": [
    "Video 42: Logistic Regression Code Along\n",
    "==============================================================="
   ]
  },
  {
   "cell_type": "code",
   "execution_count": 5,
   "metadata": {},
   "outputs": [
    {
     "data": {
      "text/plain": [
       "['PassengerId',\n",
       " 'Survived',\n",
       " 'Pclass',\n",
       " 'Name',\n",
       " 'Sex',\n",
       " 'Age',\n",
       " 'SibSp',\n",
       " 'Parch',\n",
       " 'Ticket',\n",
       " 'Fare',\n",
       " 'Cabin',\n",
       " 'Embarked']"
      ]
     },
     "execution_count": 5,
     "metadata": {},
     "output_type": "execute_result"
    }
   ],
   "source": [
    "data = spark.read.csv('titanic.csv', inferSchema=True, header=True)\n",
    "data.columns"
   ]
  },
  {
   "cell_type": "code",
   "execution_count": null,
   "metadata": {},
   "outputs": [],
   "source": [
    "cols = data.select(['Survived',\n",
    "                  'Pclass',\n",
    "                  'Sex',\n",
    "                  'Age',\n",
    "                  'SibSp',\n",
    "                  'Parch',\n",
    "                  'Fare',\n",
    "                  'Embarked'])\n",
    "final_data = cols.na.drop()\n",
    "from pyspark.ml.feature import VectorAssembler, VectorIndexer, OneHotEncoder, StringIndexer\n",
    "gender_indexer = StringIndexer(inputCol='Sex', outputCol='Sex_index')\n",
    "gender_encoder = OneHotEncoder(inputCol='Sex_index', outputCol='Sex_vector')\n",
    "embark_indexer = StringIndexer(inputCol='Embarked', outputCol='Embark_index')\n",
    "embark_encoder = OneHotEncoder(inputCol='Embark_index', outputCol='Embark_vector')\n",
    "assembler = VectorAssembler(inputCols=['Pclass',\n",
    "                                      'Sex_vector',\n",
    "                                      'Embark_vector',\n",
    "                                      'Age',\n",
    "                                      'SibSp',\n",
    "                                      'Parch',\n",
    "                                      'Fare'],\n",
    "                           outputCol='features')\n",
    "from pyspark.ml.classification import LogisticRegression\n",
    "from pyspark.ml import Pipeline\n",
    "log_reg_titanic = LogisticRegression(featuresCol='features', labelCol='Survived')\n",
    "pipeline = Pipeline(stages=[gender_indexer, embark_indexer, gender_encoder, embark_encoder, assembler, log_reg_titanic])\n",
    "train_data, test_data = final_data.randomSplit([0.7, 0.3])\n",
    "train_data.describe().show()\n",
    "test_data.describe().show()"
   ]
  },
  {
   "cell_type": "code",
   "execution_count": null,
   "metadata": {},
   "outputs": [],
   "source": [
    "fit_model = pipeline.fit(train_data)\n",
    "results = fit_model.transform(test_data)\n",
    "results.select('Survived','prediction').show()"
   ]
  },
  {
   "cell_type": "code",
   "execution_count": null,
   "metadata": {},
   "outputs": [],
   "source": [
    "from pyspark.ml.evaluation import BinaryClassificationEvaluator\n",
    "meval = BinaryClassificationEvaluator(rawPredictionCol='prediction', labelCol='Survived')\n",
    "AUC = meval.evaluate(results)\n",
    "AUC"
   ]
  }
 ],
 "metadata": {
  "kernelspec": {
   "display_name": "Python 3",
   "language": "python",
   "name": "python3"
  },
  "language_info": {
   "codemirror_mode": {
    "name": "ipython",
    "version": 3
   },
   "file_extension": ".py",
   "mimetype": "text/x-python",
   "name": "python",
   "nbconvert_exporter": "python",
   "pygments_lexer": "ipython3",
   "version": "3.6.8"
  }
 },
 "nbformat": 4,
 "nbformat_minor": 2
}
