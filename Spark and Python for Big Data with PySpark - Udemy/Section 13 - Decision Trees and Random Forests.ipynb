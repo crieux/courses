{
 "cells": [
  {
   "cell_type": "markdown",
   "metadata": {},
   "source": [
    "Video 46: Tree Methods Documentation Examples\n",
    "==============================================================="
   ]
  },
  {
   "cell_type": "code",
   "execution_count": 1,
   "metadata": {},
   "outputs": [
    {
     "name": "stdout",
     "output_type": "stream",
     "text": [
      "+-----+--------------------+\n",
      "|label|            features|\n",
      "+-----+--------------------+\n",
      "|  0.0|(692,[127,128,129...|\n",
      "|  1.0|(692,[158,159,160...|\n",
      "|  1.0|(692,[124,125,126...|\n",
      "|  1.0|(692,[152,153,154...|\n",
      "|  1.0|(692,[151,152,153...|\n",
      "|  0.0|(692,[129,130,131...|\n",
      "|  1.0|(692,[158,159,160...|\n",
      "|  1.0|(692,[99,100,101,...|\n",
      "|  0.0|(692,[154,155,156...|\n",
      "|  0.0|(692,[127,128,129...|\n",
      "|  1.0|(692,[154,155,156...|\n",
      "|  0.0|(692,[153,154,155...|\n",
      "|  0.0|(692,[151,152,153...|\n",
      "|  1.0|(692,[129,130,131...|\n",
      "|  0.0|(692,[154,155,156...|\n",
      "|  1.0|(692,[150,151,152...|\n",
      "|  0.0|(692,[124,125,126...|\n",
      "|  0.0|(692,[152,153,154...|\n",
      "|  1.0|(692,[97,98,99,12...|\n",
      "|  1.0|(692,[124,125,126...|\n",
      "+-----+--------------------+\n",
      "only showing top 20 rows\n",
      "\n"
     ]
    }
   ],
   "source": [
    "import findspark\n",
    "findspark.init('/home/ubuntu/spark-2.1.1-bin-hadoop2.7')\n",
    "import pyspark\n",
    "from pyspark.sql import SparkSession\n",
    "spark = SparkSession.builder.appName('myrandomforest').getOrCreate()\n",
    "from pyspark.ml import Pipeline\n",
    "from pyspark.ml.classification import RandomForestClassifier, GBTClassifier, DecisionTreeClassifier\n",
    "data = spark.read.format('libsvm').load('sample_libsvm_data.txt')\n",
    "data.show()"
   ]
  },
  {
   "cell_type": "code",
   "execution_count": 3,
   "metadata": {},
   "outputs": [
    {
     "name": "stdout",
     "output_type": "stream",
     "text": [
      "+-----+--------------------+-------------+-----------+----------+\n",
      "|label|            features|rawPrediction|probability|prediction|\n",
      "+-----+--------------------+-------------+-----------+----------+\n",
      "|  0.0|(692,[98,99,100,1...|   [32.0,0.0]|  [1.0,0.0]|       0.0|\n",
      "|  0.0|(692,[123,124,125...|   [32.0,0.0]|  [1.0,0.0]|       0.0|\n",
      "|  0.0|(692,[125,126,127...|   [32.0,0.0]|  [1.0,0.0]|       0.0|\n",
      "|  0.0|(692,[126,127,128...|   [32.0,0.0]|  [1.0,0.0]|       0.0|\n",
      "|  0.0|(692,[126,127,128...|   [32.0,0.0]|  [1.0,0.0]|       0.0|\n",
      "|  0.0|(692,[126,127,128...|   [32.0,0.0]|  [1.0,0.0]|       0.0|\n",
      "|  0.0|(692,[127,128,129...|   [32.0,0.0]|  [1.0,0.0]|       0.0|\n",
      "|  0.0|(692,[153,154,155...|   [32.0,0.0]|  [1.0,0.0]|       0.0|\n",
      "|  0.0|(692,[154,155,156...|   [0.0,35.0]|  [0.0,1.0]|       1.0|\n",
      "|  0.0|(692,[154,155,156...|   [0.0,35.0]|  [0.0,1.0]|       1.0|\n",
      "|  0.0|(692,[155,156,180...|   [32.0,0.0]|  [1.0,0.0]|       0.0|\n",
      "|  1.0|(692,[123,124,125...|   [0.0,35.0]|  [0.0,1.0]|       1.0|\n",
      "|  1.0|(692,[124,125,126...|   [0.0,35.0]|  [0.0,1.0]|       1.0|\n",
      "|  1.0|(692,[124,125,126...|   [0.0,35.0]|  [0.0,1.0]|       1.0|\n",
      "|  1.0|(692,[124,125,126...|   [0.0,35.0]|  [0.0,1.0]|       1.0|\n",
      "|  1.0|(692,[125,126,127...|   [0.0,35.0]|  [0.0,1.0]|       1.0|\n",
      "|  1.0|(692,[126,127,128...|   [0.0,35.0]|  [0.0,1.0]|       1.0|\n",
      "|  1.0|(692,[127,128,129...|   [0.0,35.0]|  [0.0,1.0]|       1.0|\n",
      "|  1.0|(692,[127,128,129...|   [0.0,35.0]|  [0.0,1.0]|       1.0|\n",
      "|  1.0|(692,[128,129,130...|   [0.0,35.0]|  [0.0,1.0]|       1.0|\n",
      "+-----+--------------------+-------------+-----------+----------+\n",
      "only showing top 20 rows\n",
      "\n",
      "+-----+--------------------+-------------+-----------+----------+\n",
      "|label|            features|rawPrediction|probability|prediction|\n",
      "+-----+--------------------+-------------+-----------+----------+\n",
      "|  0.0|(692,[98,99,100,1...|   [97.0,3.0]|[0.97,0.03]|       0.0|\n",
      "|  0.0|(692,[123,124,125...|  [100.0,0.0]|  [1.0,0.0]|       0.0|\n",
      "|  0.0|(692,[125,126,127...|   [93.0,7.0]|[0.93,0.07]|       0.0|\n",
      "|  0.0|(692,[126,127,128...|  [84.0,16.0]|[0.84,0.16]|       0.0|\n",
      "|  0.0|(692,[126,127,128...|   [98.0,2.0]|[0.98,0.02]|       0.0|\n",
      "|  0.0|(692,[126,127,128...|  [100.0,0.0]|  [1.0,0.0]|       0.0|\n",
      "|  0.0|(692,[127,128,129...|  [82.0,18.0]|[0.82,0.18]|       0.0|\n",
      "|  0.0|(692,[153,154,155...|   [96.0,4.0]|[0.96,0.04]|       0.0|\n",
      "|  0.0|(692,[154,155,156...|  [60.0,40.0]|  [0.6,0.4]|       0.0|\n",
      "|  0.0|(692,[154,155,156...|  [70.0,30.0]|  [0.7,0.3]|       0.0|\n",
      "|  0.0|(692,[155,156,180...|  [100.0,0.0]|  [1.0,0.0]|       0.0|\n",
      "|  1.0|(692,[123,124,125...|   [6.0,94.0]|[0.06,0.94]|       1.0|\n",
      "|  1.0|(692,[124,125,126...|   [3.0,97.0]|[0.03,0.97]|       1.0|\n",
      "|  1.0|(692,[124,125,126...|  [17.0,83.0]|[0.17,0.83]|       1.0|\n",
      "|  1.0|(692,[124,125,126...|   [3.0,97.0]|[0.03,0.97]|       1.0|\n",
      "|  1.0|(692,[125,126,127...|  [0.0,100.0]|  [0.0,1.0]|       1.0|\n",
      "|  1.0|(692,[126,127,128...|  [0.0,100.0]|  [0.0,1.0]|       1.0|\n",
      "|  1.0|(692,[127,128,129...|  [0.0,100.0]|  [0.0,1.0]|       1.0|\n",
      "|  1.0|(692,[127,128,129...|  [0.0,100.0]|  [0.0,1.0]|       1.0|\n",
      "|  1.0|(692,[128,129,130...|   [3.0,97.0]|[0.03,0.97]|       1.0|\n",
      "+-----+--------------------+-------------+-----------+----------+\n",
      "only showing top 20 rows\n",
      "\n",
      "+-----+--------------------+----------+\n",
      "|label|            features|prediction|\n",
      "+-----+--------------------+----------+\n",
      "|  0.0|(692,[98,99,100,1...|       0.0|\n",
      "|  0.0|(692,[123,124,125...|       0.0|\n",
      "|  0.0|(692,[125,126,127...|       0.0|\n",
      "|  0.0|(692,[126,127,128...|       0.0|\n",
      "|  0.0|(692,[126,127,128...|       0.0|\n",
      "|  0.0|(692,[126,127,128...|       0.0|\n",
      "|  0.0|(692,[127,128,129...|       0.0|\n",
      "|  0.0|(692,[153,154,155...|       0.0|\n",
      "|  0.0|(692,[154,155,156...|       1.0|\n",
      "|  0.0|(692,[154,155,156...|       1.0|\n",
      "|  0.0|(692,[155,156,180...|       0.0|\n",
      "|  1.0|(692,[123,124,125...|       1.0|\n",
      "|  1.0|(692,[124,125,126...|       1.0|\n",
      "|  1.0|(692,[124,125,126...|       1.0|\n",
      "|  1.0|(692,[124,125,126...|       1.0|\n",
      "|  1.0|(692,[125,126,127...|       1.0|\n",
      "|  1.0|(692,[126,127,128...|       1.0|\n",
      "|  1.0|(692,[127,128,129...|       1.0|\n",
      "|  1.0|(692,[127,128,129...|       1.0|\n",
      "|  1.0|(692,[128,129,130...|       1.0|\n",
      "+-----+--------------------+----------+\n",
      "only showing top 20 rows\n",
      "\n"
     ]
    }
   ],
   "source": [
    "train_data, test_data = data.randomSplit([0.7, 0.3])\n",
    "dtc = DecisionTreeClassifier()\n",
    "rfc = RandomForestClassifier(numTrees=100)\n",
    "gbt = GBTClassifier()\n",
    "dtc_model = dtc.fit(train_data)\n",
    "rfc_model = rfc.fit(train_data)\n",
    "gbt_model = gbt.fit(train_data)\n",
    "dtc_preds = dtc_model.transform(test_data)\n",
    "rfc_preds = rfc_model.transform(test_data)\n",
    "gbt_preds = gbt_model.transform(test_data)\n",
    "dtc_preds.show()\n",
    "rfc_preds.show()\n",
    "gbt_preds.show()"
   ]
  },
  {
   "cell_type": "code",
   "execution_count": 5,
   "metadata": {},
   "outputs": [
    {
     "name": "stdout",
     "output_type": "stream",
     "text": [
      "DTC ACCURACY:\n"
     ]
    },
    {
     "data": {
      "text/plain": [
       "0.9393939393939394"
      ]
     },
     "execution_count": 5,
     "metadata": {},
     "output_type": "execute_result"
    }
   ],
   "source": [
    "from pyspark.ml.evaluation import MulticlassClassificationEvaluator\n",
    "acc_eval = MulticlassClassificationEvaluator(metricName='accuracy')\n",
    "print('DTC ACCURACY:')\n",
    "acc_eval.evaluate(dtc_preds)"
   ]
  },
  {
   "cell_type": "code",
   "execution_count": 6,
   "metadata": {},
   "outputs": [
    {
     "name": "stdout",
     "output_type": "stream",
     "text": [
      "RFC ACCURACY:\n"
     ]
    },
    {
     "data": {
      "text/plain": [
       "1.0"
      ]
     },
     "execution_count": 6,
     "metadata": {},
     "output_type": "execute_result"
    }
   ],
   "source": [
    "print('RFC ACCURACY:')\n",
    "acc_eval.evaluate(rfc_preds)"
   ]
  },
  {
   "cell_type": "code",
   "execution_count": 11,
   "metadata": {},
   "outputs": [
    {
     "name": "stdout",
     "output_type": "stream",
     "text": [
      "GBT ACCURACY:\n"
     ]
    },
    {
     "data": {
      "text/plain": [
       "0.9393939393939394"
      ]
     },
     "execution_count": 11,
     "metadata": {},
     "output_type": "execute_result"
    }
   ],
   "source": [
    "print('GBT ACCURACY:')\n",
    "acc_eval.evaluate(gbt_preds)"
   ]
  },
  {
   "cell_type": "code",
   "execution_count": 12,
   "metadata": {},
   "outputs": [
    {
     "data": {
      "text/plain": [
       "SparseVector(692, {99: 0.0018, 101: 0.0009, 120: 0.0012, 127: 0.0004, 130: 0.0002, 154: 0.0008, 158: 0.0001, 180: 0.0003, 183: 0.0007, 186: 0.0009, 207: 0.0084, 208: 0.006, 213: 0.0002, 216: 0.0164, 235: 0.0066, 236: 0.0058, 242: 0.007, 243: 0.0098, 259: 0.0004, 262: 0.0144, 263: 0.0103, 270: 0.001, 271: 0.001, 272: 0.016, 290: 0.0062, 295: 0.0021, 296: 0.0015, 297: 0.0003, 301: 0.003, 302: 0.0019, 303: 0.001, 318: 0.0065, 319: 0.0009, 322: 0.0033, 323: 0.0069, 325: 0.0005, 328: 0.0019, 330: 0.0066, 331: 0.001, 343: 0.0004, 345: 0.0009, 350: 0.0517, 351: 0.0411, 355: 0.0005, 356: 0.0076, 358: 0.0064, 359: 0.0049, 372: 0.0051, 373: 0.0064, 374: 0.0007, 376: 0.0007, 377: 0.0284, 378: 0.076, 379: 0.028, 382: 0.0013, 385: 0.0005, 386: 0.003, 398: 0.0003, 400: 0.012, 401: 0.0032, 402: 0.0006, 404: 0.0014, 405: 0.0106, 406: 0.0331, 407: 0.027, 408: 0.0026, 410: 0.0005, 412: 0.0034, 415: 0.0055, 416: 0.0016, 427: 0.0033, 429: 0.0035, 430: 0.0011, 432: 0.0011, 433: 0.022, 434: 0.0393, 435: 0.0183, 436: 0.0006, 437: 0.0011, 440: 0.0082, 441: 0.0067, 442: 0.0084, 454: 0.0056, 455: 0.0014, 457: 0.0016, 458: 0.001, 459: 0.0016, 461: 0.0207, 462: 0.0288, 463: 0.0085, 464: 0.0007, 465: 0.0022, 466: 0.0011, 468: 0.0057, 469: 0.0057, 481: 0.0018, 482: 0.0049, 483: 0.0086, 489: 0.0096, 490: 0.02, 491: 0.0018, 492: 0.0018, 493: 0.002, 496: 0.0077, 509: 0.0027, 510: 0.0157, 511: 0.0311, 512: 0.0156, 515: 0.0022, 517: 0.0362, 518: 0.0165, 522: 0.0005, 524: 0.0132, 526: 0.0006, 538: 0.0008, 539: 0.0105, 540: 0.0104, 544: 0.0009, 545: 0.0095, 546: 0.0013, 547: 0.0003, 551: 0.0009, 552: 0.0079, 567: 0.0052, 568: 0.0273, 593: 0.0003, 597: 0.002, 598: 0.0004, 602: 0.0005, 605: 0.0061, 606: 0.0013, 624: 0.0011, 630: 0.0006, 631: 0.0002, 655: 0.0007, 660: 0.0009, 663: 0.001})"
      ]
     },
     "execution_count": 12,
     "metadata": {},
     "output_type": "execute_result"
    }
   ],
   "source": [
    "rfc_model.featureImportances"
   ]
  },
  {
   "cell_type": "markdown",
   "metadata": {},
   "source": [
    "Video 47: Decision Trees and Random Forest Code Along Examples\n",
    "==============================================================="
   ]
  },
  {
   "cell_type": "code",
   "execution_count": 13,
   "metadata": {},
   "outputs": [
    {
     "name": "stdout",
     "output_type": "stream",
     "text": [
      "root\n",
      " |-- School: string (nullable = true)\n",
      " |-- Private: string (nullable = true)\n",
      " |-- Apps: integer (nullable = true)\n",
      " |-- Accept: integer (nullable = true)\n",
      " |-- Enroll: integer (nullable = true)\n",
      " |-- Top10perc: integer (nullable = true)\n",
      " |-- Top25perc: integer (nullable = true)\n",
      " |-- F_Undergrad: integer (nullable = true)\n",
      " |-- P_Undergrad: integer (nullable = true)\n",
      " |-- Outstate: integer (nullable = true)\n",
      " |-- Room_Board: integer (nullable = true)\n",
      " |-- Books: integer (nullable = true)\n",
      " |-- Personal: integer (nullable = true)\n",
      " |-- PhD: integer (nullable = true)\n",
      " |-- Terminal: integer (nullable = true)\n",
      " |-- S_F_Ratio: double (nullable = true)\n",
      " |-- perc_alumni: integer (nullable = true)\n",
      " |-- Expend: integer (nullable = true)\n",
      " |-- Grad_Rate: integer (nullable = true)\n",
      "\n"
     ]
    }
   ],
   "source": [
    "data = spark.read.csv('College.csv', inferSchema=True, header=True)\n",
    "data.printSchema()"
   ]
  },
  {
   "cell_type": "code",
   "execution_count": 14,
   "metadata": {},
   "outputs": [
    {
     "data": {
      "text/plain": [
       "[Row(School='Abilene Christian University', Private='Yes', Apps=1660, Accept=1232, Enroll=721, Top10perc=23, Top25perc=52, F_Undergrad=2885, P_Undergrad=537, Outstate=7440, Room_Board=3300, Books=450, Personal=2200, PhD=70, Terminal=78, S_F_Ratio=18.1, perc_alumni=12, Expend=7041, Grad_Rate=60)]"
      ]
     },
     "execution_count": 14,
     "metadata": {},
     "output_type": "execute_result"
    }
   ],
   "source": [
    "data.head(1)"
   ]
  },
  {
   "cell_type": "code",
   "execution_count": 15,
   "metadata": {},
   "outputs": [
    {
     "data": {
      "text/plain": [
       "['School',\n",
       " 'Private',\n",
       " 'Apps',\n",
       " 'Accept',\n",
       " 'Enroll',\n",
       " 'Top10perc',\n",
       " 'Top25perc',\n",
       " 'F_Undergrad',\n",
       " 'P_Undergrad',\n",
       " 'Outstate',\n",
       " 'Room_Board',\n",
       " 'Books',\n",
       " 'Personal',\n",
       " 'PhD',\n",
       " 'Terminal',\n",
       " 'S_F_Ratio',\n",
       " 'perc_alumni',\n",
       " 'Expend',\n",
       " 'Grad_Rate']"
      ]
     },
     "execution_count": 15,
     "metadata": {},
     "output_type": "execute_result"
    }
   ],
   "source": [
    "data.columns"
   ]
  },
  {
   "cell_type": "code",
   "execution_count": 20,
   "metadata": {},
   "outputs": [
    {
     "name": "stdout",
     "output_type": "stream",
     "text": [
      "root\n",
      " |-- School: string (nullable = true)\n",
      " |-- Private: string (nullable = true)\n",
      " |-- Apps: integer (nullable = true)\n",
      " |-- Accept: integer (nullable = true)\n",
      " |-- Enroll: integer (nullable = true)\n",
      " |-- Top10perc: integer (nullable = true)\n",
      " |-- Top25perc: integer (nullable = true)\n",
      " |-- F_Undergrad: integer (nullable = true)\n",
      " |-- P_Undergrad: integer (nullable = true)\n",
      " |-- Outstate: integer (nullable = true)\n",
      " |-- Room_Board: integer (nullable = true)\n",
      " |-- Books: integer (nullable = true)\n",
      " |-- Personal: integer (nullable = true)\n",
      " |-- PhD: integer (nullable = true)\n",
      " |-- Terminal: integer (nullable = true)\n",
      " |-- S_F_Ratio: double (nullable = true)\n",
      " |-- perc_alumni: integer (nullable = true)\n",
      " |-- Expend: integer (nullable = true)\n",
      " |-- Grad_Rate: integer (nullable = true)\n",
      " |-- features: vector (nullable = true)\n",
      " |-- Private_index: double (nullable = true)\n",
      "\n"
     ]
    }
   ],
   "source": [
    "from pyspark.ml.feature import VectorAssembler\n",
    "assembler = VectorAssembler(inputCols=['Apps',\n",
    "                                       'Accept',\n",
    "                                       'Enroll',\n",
    "                                       'Top10perc',\n",
    "                                       'Top25perc',\n",
    "                                       'F_Undergrad',\n",
    "                                       'P_Undergrad',\n",
    "                                       'Outstate',\n",
    "                                       'Room_Board',\n",
    "                                       'Books',\n",
    "                                       'Personal',\n",
    "                                       'PhD',\n",
    "                                       'Terminal',\n",
    "                                       'S_F_Ratio',\n",
    "                                       'perc_alumni',\n",
    "                                       'Expend',\n",
    "                                       'Grad_Rate'], \n",
    "                            outputCol='features')\n",
    "output = assembler.transform(data)\n",
    "from pyspark.ml.feature import StringIndexer\n",
    "indexer = StringIndexer(inputCol='Private', outputCol='Private_index')\n",
    "output_fixed = indexer.fit(output).transform(output)\n",
    "output_fixed.printSchema()"
   ]
  },
  {
   "cell_type": "code",
   "execution_count": 29,
   "metadata": {},
   "outputs": [
    {
     "name": "stdout",
     "output_type": "stream",
     "text": [
      "+--------------------+-------------+-------------+--------------------+----------+\n",
      "|            features|Private_index|rawPrediction|         probability|prediction|\n",
      "+--------------------+-------------+-------------+--------------------+----------+\n",
      "|[81.0,72.0,51.0,3...|          0.0|  [300.0,0.0]|           [1.0,0.0]|       0.0|\n",
      "|[100.0,90.0,35.0,...|          0.0|  [300.0,0.0]|           [1.0,0.0]|       0.0|\n",
      "|[141.0,118.0,55.0...|          0.0|  [300.0,0.0]|           [1.0,0.0]|       0.0|\n",
      "|[167.0,130.0,46.0...|          0.0|  [300.0,0.0]|           [1.0,0.0]|       0.0|\n",
      "|[174.0,146.0,88.0...|          0.0|  [300.0,0.0]|           [1.0,0.0]|       0.0|\n",
      "|[232.0,216.0,106....|          0.0|   [13.0,1.0]|[0.92857142857142...|       0.0|\n",
      "|[235.0,217.0,121....|          0.0|  [300.0,0.0]|           [1.0,0.0]|       0.0|\n",
      "|[247.0,189.0,100....|          0.0|  [300.0,0.0]|           [1.0,0.0]|       0.0|\n",
      "|[313.0,228.0,137....|          0.0|  [300.0,0.0]|           [1.0,0.0]|       0.0|\n",
      "|[321.0,318.0,172....|          0.0|   [13.0,1.0]|[0.92857142857142...|       0.0|\n",
      "|[335.0,284.0,132....|          0.0|  [300.0,0.0]|           [1.0,0.0]|       0.0|\n",
      "|[342.0,254.0,126....|          0.0|  [300.0,0.0]|           [1.0,0.0]|       0.0|\n",
      "|[361.0,321.0,185....|          0.0|  [300.0,0.0]|           [1.0,0.0]|       0.0|\n",
      "|[369.0,312.0,90.0...|          0.0|  [300.0,0.0]|           [1.0,0.0]|       0.0|\n",
      "|[379.0,341.0,265....|          0.0|  [12.0,14.0]|[0.46153846153846...|       1.0|\n",
      "|[380.0,237.0,104....|          0.0|  [300.0,0.0]|           [1.0,0.0]|       0.0|\n",
      "|[385.0,340.0,193....|          0.0|  [300.0,0.0]|           [1.0,0.0]|       0.0|\n",
      "|[440.0,311.0,112....|          0.0|  [300.0,0.0]|           [1.0,0.0]|       0.0|\n",
      "|[441.0,369.0,172....|          1.0|   [13.0,1.0]|[0.92857142857142...|       0.0|\n",
      "|[452.0,331.0,269....|          0.0|  [12.0,14.0]|[0.46153846153846...|       1.0|\n",
      "+--------------------+-------------+-------------+--------------------+----------+\n",
      "only showing top 20 rows\n",
      "\n",
      "+--------------------+-------------+--------------------+--------------------+----------+\n",
      "|            features|Private_index|       rawPrediction|         probability|prediction|\n",
      "+--------------------+-------------+--------------------+--------------------+----------+\n",
      "|[81.0,72.0,51.0,3...|          0.0|[149.630659785414...|[0.99753773190276...|       0.0|\n",
      "|[100.0,90.0,35.0,...|          0.0|[148.481124303415...|[0.98987416202276...|       0.0|\n",
      "|[141.0,118.0,55.0...|          0.0|[140.496295435991...|[0.93664196957327...|       0.0|\n",
      "|[167.0,130.0,46.0...|          0.0|[149.749996292833...|[0.99833330861888...|       0.0|\n",
      "|[174.0,146.0,88.0...|          0.0|[142.185290221554...|[0.94790193481036...|       0.0|\n",
      "|[232.0,216.0,106....|          0.0|[134.242907808050...|[0.89495271872033...|       0.0|\n",
      "|[235.0,217.0,121....|          0.0|[148.529830624760...|[0.99019887083173...|       0.0|\n",
      "|[247.0,189.0,100....|          0.0|[149.711463356842...|[0.99807642237895...|       0.0|\n",
      "|[313.0,228.0,137....|          0.0|[149.868051647849...|[0.99912034431899...|       0.0|\n",
      "|[321.0,318.0,172....|          0.0|[122.430974569130...|[0.81620649712753...|       0.0|\n",
      "|[335.0,284.0,132....|          0.0|[149.868051647849...|[0.99912034431899...|       0.0|\n",
      "|[342.0,254.0,126....|          0.0|[149.641365265063...|[0.99760910176708...|       0.0|\n",
      "|[361.0,321.0,185....|          0.0|[148.162870848425...|[0.98775247232283...|       0.0|\n",
      "|[369.0,312.0,90.0...|          0.0|[148.425736110906...|[0.98950490740604...|       0.0|\n",
      "|[379.0,341.0,265....|          0.0|[110.160992684723...|[0.73440661789815...|       0.0|\n",
      "|[380.0,237.0,104....|          0.0|[149.389114497091...|[0.99592742998060...|       0.0|\n",
      "|[385.0,340.0,193....|          0.0|[141.956124838673...|[0.94637416559115...|       0.0|\n",
      "|[440.0,311.0,112....|          0.0|[149.792208594420...|[0.99861472396280...|       0.0|\n",
      "|[441.0,369.0,172....|          1.0|[133.081001857773...|[0.88720667905182...|       0.0|\n",
      "|[452.0,331.0,269....|          0.0|[114.116050065883...|[0.76077366710589...|       0.0|\n",
      "+--------------------+-------------+--------------------+--------------------+----------+\n",
      "only showing top 20 rows\n",
      "\n",
      "+--------------------+-------------+----------+\n",
      "|            features|Private_index|prediction|\n",
      "+--------------------+-------------+----------+\n",
      "|[81.0,72.0,51.0,3...|          0.0|       0.0|\n",
      "|[100.0,90.0,35.0,...|          0.0|       0.0|\n",
      "|[141.0,118.0,55.0...|          0.0|       0.0|\n",
      "|[167.0,130.0,46.0...|          0.0|       0.0|\n",
      "|[174.0,146.0,88.0...|          0.0|       0.0|\n",
      "|[232.0,216.0,106....|          0.0|       0.0|\n",
      "|[235.0,217.0,121....|          0.0|       0.0|\n",
      "|[247.0,189.0,100....|          0.0|       0.0|\n",
      "|[313.0,228.0,137....|          0.0|       0.0|\n",
      "|[321.0,318.0,172....|          0.0|       0.0|\n",
      "|[335.0,284.0,132....|          0.0|       0.0|\n",
      "|[342.0,254.0,126....|          0.0|       0.0|\n",
      "|[361.0,321.0,185....|          0.0|       0.0|\n",
      "|[369.0,312.0,90.0...|          0.0|       0.0|\n",
      "|[379.0,341.0,265....|          0.0|       0.0|\n",
      "|[380.0,237.0,104....|          0.0|       0.0|\n",
      "|[385.0,340.0,193....|          0.0|       0.0|\n",
      "|[440.0,311.0,112....|          0.0|       0.0|\n",
      "|[441.0,369.0,172....|          1.0|       0.0|\n",
      "|[452.0,331.0,269....|          0.0|       0.0|\n",
      "+--------------------+-------------+----------+\n",
      "only showing top 20 rows\n",
      "\n"
     ]
    }
   ],
   "source": [
    "final_data = output_fixed.select('features', 'Private_index')\n",
    "train_data, test_data = final_data.randomSplit([0.7, 0.3])\n",
    "dtc = DecisionTreeClassifier(labelCol='Private_index', featuresCol='features')\n",
    "rfc = RandomForestClassifier(numTrees=150, labelCol='Private_index', featuresCol='features')\n",
    "gbt = GBTClassifier(labelCol='Private_index', featuresCol='features')\n",
    "dtc_model = dtc.fit(train_data)\n",
    "rfc_model = rfc.fit(train_data)\n",
    "gbt_model = gbt.fit(train_data)\n",
    "dtc_preds = dtc_model.transform(test_data)\n",
    "rfc_preds = rfc_model.transform(test_data)\n",
    "gbt_preds = gbt_model.transform(test_data)\n",
    "dtc_preds.show()\n",
    "rfc_preds.show()\n",
    "gbt_preds.show()"
   ]
  },
  {
   "cell_type": "code",
   "execution_count": 30,
   "metadata": {},
   "outputs": [
    {
     "name": "stdout",
     "output_type": "stream",
     "text": [
      "DTC ACCURACY:\n"
     ]
    },
    {
     "data": {
      "text/plain": [
       "0.9240531464705077"
      ]
     },
     "execution_count": 30,
     "metadata": {},
     "output_type": "execute_result"
    }
   ],
   "source": [
    "acc_eval = MulticlassClassificationEvaluator(labelCol='Private_index')\n",
    "print('DTC ACCURACY:')\n",
    "acc_eval.evaluate(dtc_preds)"
   ]
  },
  {
   "cell_type": "code",
   "execution_count": 39,
   "metadata": {},
   "outputs": [
    {
     "name": "stdout",
     "output_type": "stream",
     "text": [
      "RFC ACCURACY:\n"
     ]
    },
    {
     "data": {
      "text/plain": [
       "0.9346514922092513"
      ]
     },
     "execution_count": 39,
     "metadata": {},
     "output_type": "execute_result"
    }
   ],
   "source": [
    "print('RFC ACCURACY:')\n",
    "acc_eval.evaluate(rfc_preds)"
   ]
  },
  {
   "cell_type": "code",
   "execution_count": 32,
   "metadata": {},
   "outputs": [
    {
     "name": "stdout",
     "output_type": "stream",
     "text": [
      "GBT ACCURACY:\n"
     ]
    },
    {
     "data": {
      "text/plain": [
       "0.9304927679572532"
      ]
     },
     "execution_count": 32,
     "metadata": {},
     "output_type": "execute_result"
    }
   ],
   "source": [
    "print('GBT ACCURACY:')\n",
    "acc_eval.evaluate(gbt_preds)"
   ]
  },
  {
   "cell_type": "code",
   "execution_count": 33,
   "metadata": {},
   "outputs": [
    {
     "name": "stdout",
     "output_type": "stream",
     "text": [
      "root\n",
      " |-- features: vector (nullable = true)\n",
      " |-- Private_index: double (nullable = true)\n",
      " |-- rawPrediction: vector (nullable = true)\n",
      " |-- probability: vector (nullable = true)\n",
      " |-- prediction: double (nullable = true)\n",
      "\n"
     ]
    }
   ],
   "source": [
    "dtc_preds.printSchema()"
   ]
  },
  {
   "cell_type": "code",
   "execution_count": 34,
   "metadata": {},
   "outputs": [
    {
     "name": "stdout",
     "output_type": "stream",
     "text": [
      "root\n",
      " |-- features: vector (nullable = true)\n",
      " |-- Private_index: double (nullable = true)\n",
      " |-- rawPrediction: vector (nullable = true)\n",
      " |-- probability: vector (nullable = true)\n",
      " |-- prediction: double (nullable = true)\n",
      "\n"
     ]
    }
   ],
   "source": [
    "rfc_preds.printSchema()"
   ]
  },
  {
   "cell_type": "code",
   "execution_count": 35,
   "metadata": {},
   "outputs": [
    {
     "name": "stdout",
     "output_type": "stream",
     "text": [
      "root\n",
      " |-- features: vector (nullable = true)\n",
      " |-- Private_index: double (nullable = true)\n",
      " |-- prediction: double (nullable = true)\n",
      "\n"
     ]
    }
   ],
   "source": [
    "gbt_preds.printSchema()"
   ]
  },
  {
   "cell_type": "code",
   "execution_count": 42,
   "metadata": {},
   "outputs": [
    {
     "name": "stdout",
     "output_type": "stream",
     "text": [
      "GBT: \n",
      "0.895483193277311\n"
     ]
    }
   ],
   "source": [
    "from pyspark.ml.evaluation import BinaryClassificationEvaluator\n",
    "acc_eval = BinaryClassificationEvaluator(labelCol='Private_index', rawPredictionCol='prediction')\n",
    "print('GBT: ')\n",
    "print(acc_eval.evaluate(gbt_preds))"
   ]
  },
  {
   "cell_type": "code",
   "execution_count": 44,
   "metadata": {},
   "outputs": [
    {
     "data": {
      "text/plain": [
       "0.9364406779661016"
      ]
     },
     "execution_count": 44,
     "metadata": {},
     "output_type": "execute_result"
    }
   ],
   "source": [
    "acc_eval = MulticlassClassificationEvaluator(labelCol='Private_index', metricName='accuracy')\n",
    "rfc_acc = acc_eval.evaluate(rfc_preds)\n",
    "rfc_acc"
   ]
  },
  {
   "cell_type": "code",
   "execution_count": null,
   "metadata": {},
   "outputs": [],
   "source": []
  }
 ],
 "metadata": {
  "kernelspec": {
   "display_name": "Python 3",
   "language": "python",
   "name": "python3"
  },
  "language_info": {
   "codemirror_mode": {
    "name": "ipython",
    "version": 3
   },
   "file_extension": ".py",
   "mimetype": "text/x-python",
   "name": "python",
   "nbconvert_exporter": "python",
   "pygments_lexer": "ipython3",
   "version": "3.6.8"
  }
 },
 "nbformat": 4,
 "nbformat_minor": 2
}
