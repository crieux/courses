{
 "cells": [
  {
   "cell_type": "markdown",
   "metadata": {},
   "source": [
    "# Tree Methods Consulting Project "
   ]
  },
  {
   "cell_type": "markdown",
   "metadata": {},
   "source": [
    "You've been hired by a dog food company to try to predict why some batches of their dog food are spoiling much quicker than intended! Unfortunately this Dog Food company hasn't upgraded to the latest machinery, meaning that the amounts of the five preservative chemicals they are using can vary a lot, but which is the chemical that has the strongest effect? The dog food company first mixes up a batch of preservative that contains 4 different preservative chemicals (A,B,C,D) and then is completed with a \"filler\" chemical. The food scientists beelive one of the A,B,C, or D preservatives is causing the problem, but need your help to figure out which one!\n",
    "Use Machine Learning with RF to find out which parameter had the most predicitive power, thus finding out which chemical causes the early spoiling! So create a model and then find out how you can decide which chemical is the problem!\n",
    "\n",
    "* Pres_A : Percentage of preservative A in the mix\n",
    "* Pres_B : Percentage of preservative B in the mix\n",
    "* Pres_C : Percentage of preservative C in the mix\n",
    "* Pres_D : Percentage of preservative D in the mix\n",
    "* Spoiled: Label indicating whether or not the dog food batch was spoiled.\n",
    "___\n",
    "\n",
    "**Think carefully about what this problem is really asking you to solve. While we will use Machine Learning to solve this, it won't be with your typical train/test split workflow. If this confuses you, skip ahead to the solution code along walk-through!**\n",
    "____"
   ]
  },
  {
   "cell_type": "markdown",
   "metadata": {},
   "source": [
    "# Good Luck!"
   ]
  },
  {
   "cell_type": "code",
   "execution_count": 2,
   "metadata": {},
   "outputs": [
    {
     "name": "stdout",
     "output_type": "stream",
     "text": [
      "+---+---+----+---+-------+\n",
      "|  A|  B|   C|  D|Spoiled|\n",
      "+---+---+----+---+-------+\n",
      "|  4|  2|12.0|  3|    1.0|\n",
      "|  5|  6|12.0|  7|    1.0|\n",
      "|  6|  2|13.0|  6|    1.0|\n",
      "|  4|  2|12.0|  1|    1.0|\n",
      "|  4|  2|12.0|  3|    1.0|\n",
      "| 10|  3|13.0|  9|    1.0|\n",
      "|  8|  5|14.0|  5|    1.0|\n",
      "|  5|  8|12.0|  8|    1.0|\n",
      "|  6|  5|12.0|  9|    1.0|\n",
      "|  3|  3|12.0|  1|    1.0|\n",
      "|  9|  8|11.0|  3|    1.0|\n",
      "|  1| 10|12.0|  3|    1.0|\n",
      "|  1|  5|13.0| 10|    1.0|\n",
      "|  2| 10|12.0|  6|    1.0|\n",
      "|  1| 10|11.0|  4|    1.0|\n",
      "|  5|  3|12.0|  2|    1.0|\n",
      "|  4|  9|11.0|  8|    1.0|\n",
      "|  5|  1|11.0|  1|    1.0|\n",
      "|  4|  9|12.0| 10|    1.0|\n",
      "|  5|  8|10.0|  9|    1.0|\n",
      "+---+---+----+---+-------+\n",
      "only showing top 20 rows\n",
      "\n"
     ]
    }
   ],
   "source": [
    "import findspark\n",
    "findspark.init('/home/ubuntu/spark-2.1.1-bin-hadoop2.7')\n",
    "import pyspark\n",
    "from pyspark.sql import SparkSession\n",
    "spark = SparkSession.builder.appName('myrandomforest consulting project').getOrCreate()\n",
    "data = spark.read.csv('dog_food.csv', inferSchema=True, header=True)\n",
    "data.show()"
   ]
  },
  {
   "cell_type": "code",
   "execution_count": 3,
   "metadata": {},
   "outputs": [
    {
     "name": "stdout",
     "output_type": "stream",
     "text": [
      "root\n",
      " |-- A: integer (nullable = true)\n",
      " |-- B: integer (nullable = true)\n",
      " |-- C: double (nullable = true)\n",
      " |-- D: integer (nullable = true)\n",
      " |-- Spoiled: double (nullable = true)\n",
      "\n"
     ]
    }
   ],
   "source": [
    "data.printSchema()"
   ]
  },
  {
   "cell_type": "code",
   "execution_count": 12,
   "metadata": {},
   "outputs": [
    {
     "name": "stdout",
     "output_type": "stream",
     "text": [
      "+---+---+----+---+-------+-------------------+-----+\n",
      "|  A|  B|   C|  D|Spoiled|           features|label|\n",
      "+---+---+----+---+-------+-------------------+-----+\n",
      "|  4|  2|12.0|  3|    1.0| [4.0,2.0,12.0,3.0]|  1.0|\n",
      "|  5|  6|12.0|  7|    1.0| [5.0,6.0,12.0,7.0]|  1.0|\n",
      "|  6|  2|13.0|  6|    1.0| [6.0,2.0,13.0,6.0]|  1.0|\n",
      "|  4|  2|12.0|  1|    1.0| [4.0,2.0,12.0,1.0]|  1.0|\n",
      "|  4|  2|12.0|  3|    1.0| [4.0,2.0,12.0,3.0]|  1.0|\n",
      "| 10|  3|13.0|  9|    1.0|[10.0,3.0,13.0,9.0]|  1.0|\n",
      "|  8|  5|14.0|  5|    1.0| [8.0,5.0,14.0,5.0]|  1.0|\n",
      "|  5|  8|12.0|  8|    1.0| [5.0,8.0,12.0,8.0]|  1.0|\n",
      "|  6|  5|12.0|  9|    1.0| [6.0,5.0,12.0,9.0]|  1.0|\n",
      "|  3|  3|12.0|  1|    1.0| [3.0,3.0,12.0,1.0]|  1.0|\n",
      "|  9|  8|11.0|  3|    1.0| [9.0,8.0,11.0,3.0]|  1.0|\n",
      "|  1| 10|12.0|  3|    1.0|[1.0,10.0,12.0,3.0]|  1.0|\n",
      "|  1|  5|13.0| 10|    1.0|[1.0,5.0,13.0,10.0]|  1.0|\n",
      "|  2| 10|12.0|  6|    1.0|[2.0,10.0,12.0,6.0]|  1.0|\n",
      "|  1| 10|11.0|  4|    1.0|[1.0,10.0,11.0,4.0]|  1.0|\n",
      "|  5|  3|12.0|  2|    1.0| [5.0,3.0,12.0,2.0]|  1.0|\n",
      "|  4|  9|11.0|  8|    1.0| [4.0,9.0,11.0,8.0]|  1.0|\n",
      "|  5|  1|11.0|  1|    1.0| [5.0,1.0,11.0,1.0]|  1.0|\n",
      "|  4|  9|12.0| 10|    1.0|[4.0,9.0,12.0,10.0]|  1.0|\n",
      "|  5|  8|10.0|  9|    1.0| [5.0,8.0,10.0,9.0]|  1.0|\n",
      "+---+---+----+---+-------+-------------------+-----+\n",
      "only showing top 20 rows\n",
      "\n"
     ]
    }
   ],
   "source": [
    "from pyspark.ml.feature import VectorAssembler\n",
    "assembler = VectorAssembler(inputCols=['A', 'B', 'C', 'D'], \n",
    "                            outputCol='features')\n",
    "output = assembler.transform(data)\n",
    "output = output.withColumn('label', output['Spoiled'])\n",
    "output.show()"
   ]
  },
  {
   "cell_type": "code",
   "execution_count": 11,
   "metadata": {},
   "outputs": [
    {
     "name": "stdout",
     "output_type": "stream",
     "text": [
      "+---+---+----+---+-------+-------------------+-----+-------------+-----------+----------+\n",
      "|  A|  B|   C|  D|Spoiled|           features|label|rawPrediction|probability|prediction|\n",
      "+---+---+----+---+-------+-------------------+-----+-------------+-----------+----------+\n",
      "|  1|  1|12.0|  4|    1.0| [1.0,1.0,12.0,4.0]|  1.0|   [0.0,79.0]|  [0.0,1.0]|       1.0|\n",
      "|  1|  1|13.0|  3|    1.0| [1.0,1.0,13.0,3.0]|  1.0|   [0.0,79.0]|  [0.0,1.0]|       1.0|\n",
      "|  1|  3| 8.0|  3|    0.0|  [1.0,3.0,8.0,3.0]|  0.0|  [231.0,0.0]|  [1.0,0.0]|       0.0|\n",
      "|  1|  3| 8.0|  5|    0.0|  [1.0,3.0,8.0,5.0]|  0.0|  [231.0,0.0]|  [1.0,0.0]|       0.0|\n",
      "|  1|  4| 8.0|  5|    0.0|  [1.0,4.0,8.0,5.0]|  0.0|  [231.0,0.0]|  [1.0,0.0]|       0.0|\n",
      "|  1|  4| 8.0|  7|    0.0|  [1.0,4.0,8.0,7.0]|  0.0|  [231.0,0.0]|  [1.0,0.0]|       0.0|\n",
      "|  1|  5| 8.0|  5|    0.0|  [1.0,5.0,8.0,5.0]|  0.0|  [231.0,0.0]|  [1.0,0.0]|       0.0|\n",
      "|  1|  7| 7.0|  2|    0.0|  [1.0,7.0,7.0,2.0]|  0.0|  [231.0,0.0]|  [1.0,0.0]|       0.0|\n",
      "|  1|  7| 8.0|  2|    0.0|  [1.0,7.0,8.0,2.0]|  0.0|  [231.0,0.0]|  [1.0,0.0]|       0.0|\n",
      "|  1|  7|11.0|  9|    1.0| [1.0,7.0,11.0,9.0]|  1.0|   [0.0,79.0]|  [0.0,1.0]|       1.0|\n",
      "|  1|  7|11.0| 10|    1.0|[1.0,7.0,11.0,10.0]|  1.0|   [0.0,79.0]|  [0.0,1.0]|       1.0|\n",
      "|  1|  8| 8.0|  6|    0.0|  [1.0,8.0,8.0,6.0]|  0.0|  [231.0,0.0]|  [1.0,0.0]|       0.0|\n",
      "|  1|  8| 8.0|  8|    0.0|  [1.0,8.0,8.0,8.0]|  0.0|  [231.0,0.0]|  [1.0,0.0]|       0.0|\n",
      "|  1|  9| 7.0|  4|    0.0|  [1.0,9.0,7.0,4.0]|  0.0|  [231.0,0.0]|  [1.0,0.0]|       0.0|\n",
      "|  1|  9| 9.0|  7|    0.0|  [1.0,9.0,9.0,7.0]|  0.0|  [231.0,0.0]|  [1.0,0.0]|       0.0|\n",
      "|  2|  1| 8.0|  9|    0.0|  [2.0,1.0,8.0,9.0]|  0.0|  [231.0,0.0]|  [1.0,0.0]|       0.0|\n",
      "|  2|  1|10.0|  7|    0.0| [2.0,1.0,10.0,7.0]|  0.0|    [4.0,1.0]|  [0.8,0.2]|       0.0|\n",
      "|  2|  2| 7.0|  8|    0.0|  [2.0,2.0,7.0,8.0]|  0.0|  [231.0,0.0]|  [1.0,0.0]|       0.0|\n",
      "|  2|  2| 8.0|  1|    0.0|  [2.0,2.0,8.0,1.0]|  0.0|  [231.0,0.0]|  [1.0,0.0]|       0.0|\n",
      "|  2|  3| 7.0| 10|    0.0| [2.0,3.0,7.0,10.0]|  0.0|  [231.0,0.0]|  [1.0,0.0]|       0.0|\n",
      "+---+---+----+---+-------+-------------------+-----+-------------+-----------+----------+\n",
      "only showing top 20 rows\n",
      "\n",
      "+---+---+----+---+-------+-------------------+-----+--------------------+--------------------+----------+\n",
      "|  A|  B|   C|  D|Spoiled|           features|label|       rawPrediction|         probability|prediction|\n",
      "+---+---+----+---+-------+-------------------+-----+--------------------+--------------------+----------+\n",
      "|  1|  1|12.0|  4|    1.0| [1.0,1.0,12.0,4.0]|  1.0|[4.96080858085808...|[0.04960808580858...|       1.0|\n",
      "|  1|  1|13.0|  3|    1.0| [1.0,1.0,13.0,3.0]|  1.0|[3.33580858085808...|[0.03335808580858...|       1.0|\n",
      "|  1|  3| 8.0|  3|    0.0|  [1.0,3.0,8.0,3.0]|  0.0|[99.3665103352440...|[0.99366510335244...|       0.0|\n",
      "|  1|  3| 8.0|  5|    0.0|  [1.0,3.0,8.0,5.0]|  0.0|[99.4167773070213...|[0.99416777307021...|       0.0|\n",
      "|  1|  4| 8.0|  5|    0.0|  [1.0,4.0,8.0,5.0]|  0.0|[99.2629311531751...|[0.99262931153175...|       0.0|\n",
      "|  1|  4| 8.0|  7|    0.0|  [1.0,4.0,8.0,7.0]|  0.0|[98.3629311531751...|[0.98362931153175...|       0.0|\n",
      "|  1|  5| 8.0|  5|    0.0|  [1.0,5.0,8.0,5.0]|  0.0|[99.3629311531751...|[0.99362931153175...|       0.0|\n",
      "|  1|  7| 7.0|  2|    0.0|  [1.0,7.0,7.0,2.0]|  0.0|[99.6817042606516...|[0.99681704260651...|       0.0|\n",
      "|  1|  7| 8.0|  2|    0.0|  [1.0,7.0,8.0,2.0]|  0.0|[99.6817042606516...|[0.99681704260651...|       0.0|\n",
      "|  1|  7|11.0|  9|    1.0| [1.0,7.0,11.0,9.0]|  1.0|[4.28139317438055...|[0.04281393174380...|       1.0|\n",
      "|  1|  7|11.0| 10|    1.0|[1.0,7.0,11.0,10.0]|  1.0|[4.36869476168213...|[0.04368694761682...|       1.0|\n",
      "|  1|  8| 8.0|  6|    0.0|  [1.0,8.0,8.0,6.0]|  0.0|[99.2334478787438...|[0.99233447878743...|       0.0|\n",
      "|  1|  8| 8.0|  8|    0.0|  [1.0,8.0,8.0,8.0]|  0.0|[98.4834478787438...|[0.98483447878743...|       0.0|\n",
      "|  1|  9| 7.0|  4|    0.0|  [1.0,9.0,7.0,4.0]|  0.0|[99.1516855017869...|[0.99151685501786...|       0.0|\n",
      "|  1|  9| 9.0|  7|    0.0|  [1.0,9.0,9.0,7.0]|  0.0|[98.9636066089025...|[0.98963606608902...|       0.0|\n",
      "|  2|  1| 8.0|  9|    0.0|  [2.0,1.0,8.0,9.0]|  0.0|[99.9786453839516...|[0.99978645383951...|       0.0|\n",
      "|  2|  1|10.0|  7|    0.0| [2.0,1.0,10.0,7.0]|  0.0|[81.7691771226288...|[0.81769177122628...|       0.0|\n",
      "|  2|  2| 7.0|  8|    0.0|  [2.0,2.0,7.0,8.0]|  0.0|[99.6006858488677...|[0.99600685848867...|       0.0|\n",
      "|  2|  2| 8.0|  1|    0.0|  [2.0,2.0,8.0,1.0]|  0.0|[99.3936343591218...|[0.99393634359121...|       0.0|\n",
      "|  2|  3| 7.0| 10|    0.0| [2.0,3.0,7.0,10.0]|  0.0|[97.0196391727715...|[0.97019639172771...|       0.0|\n",
      "+---+---+----+---+-------+-------------------+-----+--------------------+--------------------+----------+\n",
      "only showing top 20 rows\n",
      "\n",
      "+---+---+----+---+-------+-------------------+-----+----------+\n",
      "|  A|  B|   C|  D|Spoiled|           features|label|prediction|\n",
      "+---+---+----+---+-------+-------------------+-----+----------+\n",
      "|  1|  1|12.0|  4|    1.0| [1.0,1.0,12.0,4.0]|  1.0|       1.0|\n",
      "|  1|  1|13.0|  3|    1.0| [1.0,1.0,13.0,3.0]|  1.0|       1.0|\n",
      "|  1|  3| 8.0|  3|    0.0|  [1.0,3.0,8.0,3.0]|  0.0|       0.0|\n",
      "|  1|  3| 8.0|  5|    0.0|  [1.0,3.0,8.0,5.0]|  0.0|       0.0|\n",
      "|  1|  4| 8.0|  5|    0.0|  [1.0,4.0,8.0,5.0]|  0.0|       0.0|\n",
      "|  1|  4| 8.0|  7|    0.0|  [1.0,4.0,8.0,7.0]|  0.0|       0.0|\n",
      "|  1|  5| 8.0|  5|    0.0|  [1.0,5.0,8.0,5.0]|  0.0|       0.0|\n",
      "|  1|  7| 7.0|  2|    0.0|  [1.0,7.0,7.0,2.0]|  0.0|       0.0|\n",
      "|  1|  7| 8.0|  2|    0.0|  [1.0,7.0,8.0,2.0]|  0.0|       0.0|\n",
      "|  1|  7|11.0|  9|    1.0| [1.0,7.0,11.0,9.0]|  1.0|       1.0|\n",
      "|  1|  7|11.0| 10|    1.0|[1.0,7.0,11.0,10.0]|  1.0|       1.0|\n",
      "|  1|  8| 8.0|  6|    0.0|  [1.0,8.0,8.0,6.0]|  0.0|       0.0|\n",
      "|  1|  8| 8.0|  8|    0.0|  [1.0,8.0,8.0,8.0]|  0.0|       0.0|\n",
      "|  1|  9| 7.0|  4|    0.0|  [1.0,9.0,7.0,4.0]|  0.0|       0.0|\n",
      "|  1|  9| 9.0|  7|    0.0|  [1.0,9.0,9.0,7.0]|  0.0|       0.0|\n",
      "|  2|  1| 8.0|  9|    0.0|  [2.0,1.0,8.0,9.0]|  0.0|       0.0|\n",
      "|  2|  1|10.0|  7|    0.0| [2.0,1.0,10.0,7.0]|  0.0|       0.0|\n",
      "|  2|  2| 7.0|  8|    0.0|  [2.0,2.0,7.0,8.0]|  0.0|       0.0|\n",
      "|  2|  2| 8.0|  1|    0.0|  [2.0,2.0,8.0,1.0]|  0.0|       0.0|\n",
      "|  2|  3| 7.0| 10|    0.0| [2.0,3.0,7.0,10.0]|  0.0|       0.0|\n",
      "+---+---+----+---+-------+-------------------+-----+----------+\n",
      "only showing top 20 rows\n",
      "\n"
     ]
    }
   ],
   "source": [
    "from pyspark.ml.classification import RandomForestClassifier, GBTClassifier, DecisionTreeClassifier\n",
    "train_data, test_data = output.randomSplit([0.7, 0.3])\n",
    "dtc = DecisionTreeClassifier()\n",
    "rfc = RandomForestClassifier(numTrees=100)\n",
    "gbt = GBTClassifier()\n",
    "dtc_model = dtc.fit(train_data)\n",
    "rfc_model = rfc.fit(train_data)\n",
    "gbt_model = gbt.fit(train_data)\n",
    "dtc_preds = dtc_model.transform(test_data)\n",
    "rfc_preds = rfc_model.transform(test_data)\n",
    "gbt_preds = gbt_model.transform(test_data)\n",
    "dtc_preds.show()\n",
    "rfc_preds.show()\n",
    "gbt_preds.show()"
   ]
  },
  {
   "cell_type": "code",
   "execution_count": 14,
   "metadata": {},
   "outputs": [
    {
     "data": {
      "text/plain": [
       "SparseVector(4, {0: 0.0049, 1: 0.0047, 2: 0.9576, 3: 0.0328})"
      ]
     },
     "execution_count": 14,
     "metadata": {},
     "output_type": "execute_result"
    }
   ],
   "source": [
    "dtc_model.featureImportances"
   ]
  },
  {
   "cell_type": "code",
   "execution_count": 16,
   "metadata": {},
   "outputs": [
    {
     "data": {
      "text/plain": [
       "SparseVector(4, {0: 0.0221, 1: 0.023, 2: 0.9272, 3: 0.0277})"
      ]
     },
     "execution_count": 16,
     "metadata": {},
     "output_type": "execute_result"
    }
   ],
   "source": [
    "rfc_model.featureImportances"
   ]
  },
  {
   "cell_type": "code",
   "execution_count": 17,
   "metadata": {},
   "outputs": [
    {
     "data": {
      "text/plain": [
       "SparseVector(4, {0: 0.0047, 1: 0.023, 2: 0.88, 3: 0.0923})"
      ]
     },
     "execution_count": 17,
     "metadata": {},
     "output_type": "execute_result"
    }
   ],
   "source": [
    "gbt_model.featureImportances"
   ]
  },
  {
   "cell_type": "code",
   "execution_count": null,
   "metadata": {},
   "outputs": [],
   "source": []
  }
 ],
 "metadata": {
  "anaconda-cloud": {},
  "kernelspec": {
   "display_name": "Python 3",
   "language": "python",
   "name": "python3"
  },
  "language_info": {
   "codemirror_mode": {
    "name": "ipython",
    "version": 3
   },
   "file_extension": ".py",
   "mimetype": "text/x-python",
   "name": "python",
   "nbconvert_exporter": "python",
   "pygments_lexer": "ipython3",
   "version": "3.6.8"
  }
 },
 "nbformat": 4,
 "nbformat_minor": 1
}
